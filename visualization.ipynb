{
 "cells": [
  {
   "cell_type": "code",
   "execution_count": 1,
   "metadata": {},
   "outputs": [],
   "source": [
    "import os\n",
    "import numpy as np\n",
    "import matplotlib.pyplot as plt\n",
    "import pandas as pd\n",
    "import seaborn as sns"
   ]
  },
  {
   "cell_type": "code",
   "execution_count": 2,
   "metadata": {},
   "outputs": [
    {
     "name": "stderr",
     "output_type": "stream",
     "text": [
      "/opt/anaconda3/lib/python3.7/site-packages/IPython/core/interactiveshell.py:3063: DtypeWarning: Columns (16) have mixed types.Specify dtype option on import or set low_memory=False.\n",
      "  interactivity=interactivity, compiler=compiler, result=result)\n"
     ]
    }
   ],
   "source": [
    "data = pd.read_csv(\"movie.csv\", sep=\",\")"
   ]
  },
  {
   "cell_type": "code",
   "execution_count": 3,
   "metadata": {},
   "outputs": [],
   "source": [
    "date = data[['date_published']].values"
   ]
  },
  {
   "cell_type": "code",
   "execution_count": 4,
   "metadata": {},
   "outputs": [
    {
     "name": "stdout",
     "output_type": "stream",
     "text": [
      "2002/4/5\n",
      "42541\n"
     ]
    }
   ],
   "source": [
    "print(date[0][0])\n",
    "print(len(date))"
   ]
  },
  {
   "cell_type": "code",
   "execution_count": 5,
   "metadata": {},
   "outputs": [
    {
     "data": {
      "text/html": [
       "<div>\n",
       "<style scoped>\n",
       "    .dataframe tbody tr th:only-of-type {\n",
       "        vertical-align: middle;\n",
       "    }\n",
       "\n",
       "    .dataframe tbody tr th {\n",
       "        vertical-align: top;\n",
       "    }\n",
       "\n",
       "    .dataframe thead th {\n",
       "        text-align: right;\n",
       "    }\n",
       "</style>\n",
       "<table border=\"1\" class=\"dataframe\">\n",
       "  <thead>\n",
       "    <tr style=\"text-align: right;\">\n",
       "      <th></th>\n",
       "      <th>imdb_title_id</th>\n",
       "      <th>title</th>\n",
       "      <th>original_title</th>\n",
       "      <th>year</th>\n",
       "      <th>date_published</th>\n",
       "      <th>week</th>\n",
       "      <th>month_published</th>\n",
       "      <th>duration</th>\n",
       "      <th>country</th>\n",
       "      <th>language</th>\n",
       "      <th>...</th>\n",
       "      <th>Thriller</th>\n",
       "      <th>Fantasy</th>\n",
       "      <th>Romance</th>\n",
       "      <th>Sci-Fi</th>\n",
       "      <th>Mystery</th>\n",
       "      <th>War</th>\n",
       "      <th>Western</th>\n",
       "      <th>Music</th>\n",
       "      <th>Sport</th>\n",
       "      <th>History</th>\n",
       "    </tr>\n",
       "  </thead>\n",
       "  <tbody>\n",
       "    <tr>\n",
       "      <th>0</th>\n",
       "      <td>tt0035423</td>\n",
       "      <td>Kate &amp; Leopold</td>\n",
       "      <td>Kate &amp; Leopold</td>\n",
       "      <td>2001</td>\n",
       "      <td>2002/4/5</td>\n",
       "      <td>5</td>\n",
       "      <td>4</td>\n",
       "      <td>118</td>\n",
       "      <td>USA</td>\n",
       "      <td>English, French</td>\n",
       "      <td>...</td>\n",
       "      <td>0</td>\n",
       "      <td>1</td>\n",
       "      <td>1</td>\n",
       "      <td>0</td>\n",
       "      <td>0</td>\n",
       "      <td>0</td>\n",
       "      <td>0</td>\n",
       "      <td>0</td>\n",
       "      <td>0</td>\n",
       "      <td>0</td>\n",
       "    </tr>\n",
       "    <tr>\n",
       "      <th>1</th>\n",
       "      <td>tt0069049</td>\n",
       "      <td>The Other Side of the Wind</td>\n",
       "      <td>The Other Side of the Wind</td>\n",
       "      <td>2018</td>\n",
       "      <td>2018/11/2</td>\n",
       "      <td>5</td>\n",
       "      <td>11</td>\n",
       "      <td>122</td>\n",
       "      <td>France, Iran, USA</td>\n",
       "      <td>English, German</td>\n",
       "      <td>...</td>\n",
       "      <td>0</td>\n",
       "      <td>0</td>\n",
       "      <td>0</td>\n",
       "      <td>0</td>\n",
       "      <td>0</td>\n",
       "      <td>0</td>\n",
       "      <td>0</td>\n",
       "      <td>0</td>\n",
       "      <td>0</td>\n",
       "      <td>0</td>\n",
       "    </tr>\n",
       "    <tr>\n",
       "      <th>2</th>\n",
       "      <td>tt0085953</td>\n",
       "      <td>Mo tai</td>\n",
       "      <td>Mo tai</td>\n",
       "      <td>2019</td>\n",
       "      <td>2019/10/22</td>\n",
       "      <td>2</td>\n",
       "      <td>10</td>\n",
       "      <td>84</td>\n",
       "      <td>Hong Kong</td>\n",
       "      <td>Cantonese</td>\n",
       "      <td>...</td>\n",
       "      <td>0</td>\n",
       "      <td>0</td>\n",
       "      <td>0</td>\n",
       "      <td>0</td>\n",
       "      <td>0</td>\n",
       "      <td>0</td>\n",
       "      <td>0</td>\n",
       "      <td>0</td>\n",
       "      <td>0</td>\n",
       "      <td>0</td>\n",
       "    </tr>\n",
       "  </tbody>\n",
       "</table>\n",
       "<p>3 rows × 37 columns</p>\n",
       "</div>"
      ],
      "text/plain": [
       "  imdb_title_id                       title              original_title  year  \\\n",
       "0     tt0035423              Kate & Leopold              Kate & Leopold  2001   \n",
       "1     tt0069049  The Other Side of the Wind  The Other Side of the Wind  2018   \n",
       "2     tt0085953                      Mo tai                      Mo tai  2019   \n",
       "\n",
       "  date_published  week  month_published  duration            country  \\\n",
       "0       2002/4/5     5                4       118                USA   \n",
       "1      2018/11/2     5               11       122  France, Iran, USA   \n",
       "2     2019/10/22     2               10        84          Hong Kong   \n",
       "\n",
       "          language  ...  Thriller  Fantasy  Romance  Sci-Fi Mystery  War  \\\n",
       "0  English, French  ...         0        1        1       0       0    0   \n",
       "1  English, German  ...         0        0        0       0       0    0   \n",
       "2        Cantonese  ...         0        0        0       0       0    0   \n",
       "\n",
       "  Western  Music  Sport  History  \n",
       "0       0      0      0        0  \n",
       "1       0      0      0        0  \n",
       "2       0      0      0        0  \n",
       "\n",
       "[3 rows x 37 columns]"
      ]
     },
     "execution_count": 5,
     "metadata": {},
     "output_type": "execute_result"
    }
   ],
   "source": [
    "data.head(3)"
   ]
  },
  {
   "cell_type": "code",
   "execution_count": 6,
   "metadata": {},
   "outputs": [
    {
     "data": {
      "text/plain": [
       "['imdb_title_id',\n",
       " 'title',\n",
       " 'original_title',\n",
       " 'year',\n",
       " 'date_published',\n",
       " 'week',\n",
       " 'month_published',\n",
       " 'duration',\n",
       " 'country',\n",
       " 'language',\n",
       " 'directors_rating',\n",
       " 'actors_rating',\n",
       " 'avg_vote',\n",
       " 'votes',\n",
       " 'budget',\n",
       " 'usa_gross_income',\n",
       " 'worlwide_gross_income',\n",
       " 'Comedy',\n",
       " 'Drama',\n",
       " 'Horror',\n",
       " 'Musical',\n",
       " 'Action',\n",
       " 'Crime',\n",
       " 'Animation',\n",
       " 'Adventure',\n",
       " 'Biography',\n",
       " 'Family',\n",
       " 'Thriller',\n",
       " 'Fantasy',\n",
       " 'Romance',\n",
       " 'Sci-Fi',\n",
       " 'Mystery',\n",
       " 'War',\n",
       " 'Western',\n",
       " 'Music',\n",
       " 'Sport',\n",
       " 'History']"
      ]
     },
     "execution_count": 6,
     "metadata": {},
     "output_type": "execute_result"
    }
   ],
   "source": [
    "data.columns.values.tolist() "
   ]
  },
  {
   "cell_type": "code",
   "execution_count": 7,
   "metadata": {},
   "outputs": [],
   "source": [
    "daylist = []\n",
    "for i in range(len(date)):\n",
    "    day = date[i][0]\n",
    "    day = day.split('/')\n",
    "    day = int(day[-1])\n",
    "    #print(day)\n",
    "    daylist.append(day)"
   ]
  },
  {
   "cell_type": "code",
   "execution_count": 8,
   "metadata": {},
   "outputs": [],
   "source": [
    "yearlist = []\n",
    "for i in range(len(date)):\n",
    "    year = date[i][0]\n",
    "    year = year.split('/')\n",
    "    year = int(year[0])\n",
    "    yearlist.append(year)"
   ]
  },
  {
   "cell_type": "code",
   "execution_count": 9,
   "metadata": {
    "scrolled": false
   },
   "outputs": [
    {
     "data": {
      "text/plain": [
       "(array([ 0,  1,  2,  3,  4,  5,  6,  7,  8,  9, 10, 11, 12, 13, 14, 15, 16,\n",
       "        17, 18, 19, 20]),\n",
       " <a list of 21 Text xticklabel objects>)"
      ]
     },
     "execution_count": 9,
     "metadata": {},
     "output_type": "execute_result"
    },
    {
     "data": {
      "image/png": "[encoded data removed]",
      "text/plain": [
       "<Figure size 432x288 with 1 Axes>"
      ]
     },
     "metadata": {
      "needs_background": "light"
     },
     "output_type": "display_data"
    }
   ],
   "source": [
    "sns.countplot(yearlist)\n",
    "plt.xlabel('year_punished')\n",
    "plt.xticks(fontsize=10, color=\"black\", rotation=90)"
   ]
  },
  {
   "cell_type": "code",
   "execution_count": 10,
   "metadata": {},
   "outputs": [
    {
     "data": {
      "text/plain": [
       "Text(0.5, 0, 'date_punished')"
      ]
     },
     "execution_count": 10,
     "metadata": {},
     "output_type": "execute_result"
    },
    {
     "data": {
      "image/png": "[encoded data removed]",
      "text/plain": [
       "<Figure size 432x288 with 1 Axes>"
      ]
     },
     "metadata": {
      "needs_background": "light"
     },
     "output_type": "display_data"
    }
   ],
   "source": [
    "sns.countplot(daylist)\n",
    "plt.xlabel('date_punished')"
   ]
  },
  {
   "cell_type": "code",
   "execution_count": 11,
   "metadata": {},
   "outputs": [
    {
     "data": {
      "text/plain": [
       "<matplotlib.axes._subplots.AxesSubplot at 0x1a19521610>"
      ]
     },
     "execution_count": 11,
     "metadata": {},
     "output_type": "execute_result"
    },
    {
     "data": {
      "image/png": "[encoded data removed]",
      "text/plain": [
       "<Figure size 432x288 with 1 Axes>"
      ]
     },
     "metadata": {
      "needs_background": "light"
     },
     "output_type": "display_data"
    }
   ],
   "source": [
    "plt.subplot\n",
    "sns.countplot(data['week'])\n"
   ]
  },
  {
   "cell_type": "code",
   "execution_count": 12,
   "metadata": {},
   "outputs": [
    {
     "data": {
      "text/plain": [
       "<matplotlib.axes._subplots.AxesSubplot at 0x1a1af10050>"
      ]
     },
     "execution_count": 12,
     "metadata": {},
     "output_type": "execute_result"
    },
    {
     "data": {
      "image/png": "[encoded data removed]",
      "text/plain": [
       "<Figure size 432x288 with 1 Axes>"
      ]
     },
     "metadata": {
      "needs_background": "light"
     },
     "output_type": "display_data"
    }
   ],
   "source": [
    "plt.subplot\n",
    "sns.countplot(data['month_published'])"
   ]
  },
  {
   "cell_type": "code",
   "execution_count": 13,
   "metadata": {},
   "outputs": [
    {
     "data": {
      "text/plain": [
       "14431"
      ]
     },
     "execution_count": 13,
     "metadata": {},
     "output_type": "execute_result"
    }
   ],
   "source": [
    "comedy = data['Comedy']\n",
    "drama = data['Drama']\n",
    "comedy.sum()\n"
   ]
  },
  {
   "cell_type": "code",
   "execution_count": 14,
   "metadata": {},
   "outputs": [],
   "source": [
    "genre = []"
   ]
  },
  {
   "cell_type": "code",
   "execution_count": 15,
   "metadata": {
    "scrolled": true
   },
   "outputs": [
    {
     "name": "stdout",
     "output_type": "stream",
     "text": [
      "[14431, 23195, 5153, 463, 6392, 4626, 1393, 2956, 1299, 1878, 6334, 1742, 6205, 1598, 2452, 603, 178, 732, 560, 939]\n"
     ]
    },
    {
     "data": {
      "image/png": "[encoded data removed]",
      "text/plain": [
       "<Figure size 432x288 with 1 Axes>"
      ]
     },
     "metadata": {
      "needs_background": "light"
     },
     "output_type": "display_data"
    }
   ],
   "source": [
    "namelist = ['Comedy','Drama','Horror','Musical','Action','Crime','Animation','Adventure','Biography','Family','Thriller','Fantasy',\n",
    " 'Romance','Sci-Fi','Mystery','War','Western','Music','Sport','History']\n",
    "type_sum_list = [] \n",
    "for name in namelist: \n",
    "    type_data = data[name]\n",
    "    type_sum_list.append(type_data.sum())\n",
    "print(type_sum_list)\n",
    "plt.xlabel('genres')\n",
    "plt.ylabel('count')\n",
    "plt.xticks(fontsize=10, color=\"black\", rotation=90)\n",
    "ax = plt.gca()\n",
    "sns.barplot(namelist,type_sum_list)\n",
    "for label in ax.xaxis.get_ticklabels():\n",
    "    label.set_rotation(90)"
   ]
  },
  {
   "cell_type": "code",
   "execution_count": null,
   "metadata": {},
   "outputs": [],
   "source": []
  },
  {
   "cell_type": "code",
   "execution_count": 16,
   "metadata": {
    "scrolled": true
   },
   "outputs": [],
   "source": [
    "namelist = ['Comedy','Drama','Horror','Musical','Action','Crime','Animation','Adventure','Biography','Family','Thriller','Fantasy',\n",
    " 'Romance','Sci-Fi','Mystery','War','Western','Music','Sport','History']\n",
    "rate_list = [] \n",
    "for name in namelist: \n",
    "    type_list = data[name].values\n",
    "    rate = type_list.dot(data['avg_vote'].values)\n",
    "    n_nonzero = len(np.nonzero(type_list)[0]) \n",
    "    rate_list.append(rate/n_nonzero)"
   ]
  },
  {
   "cell_type": "code",
   "execution_count": 17,
   "metadata": {},
   "outputs": [
    {
     "data": {
      "image/png": "[encoded data removed]",
      "text/plain": [
       "<Figure size 432x288 with 1 Axes>"
      ]
     },
     "metadata": {
      "needs_background": "light"
     },
     "output_type": "display_data"
    }
   ],
   "source": [
    "ax = plt.gca()\n",
    "sns.barplot(namelist,rate_list)\n",
    "plt.xlabel('genres')\n",
    "plt.ylabel('avg_rate')\n",
    "for label in ax.xaxis.get_ticklabels():\n",
    "    label.set_rotation(90)"
   ]
  },
  {
   "cell_type": "code",
   "execution_count": 18,
   "metadata": {},
   "outputs": [
    {
     "name": "stdout",
     "output_type": "stream",
     "text": [
      "[8179487.17897073, 7658904.417779825, 1258443.930195553, 226264.54172773333, 9757279.606088523, 2315444.990578284, 3277680.8420082913, 10102877.14279134, 997890.7181860056, 2127755.1679159165, 3180625.6535320967, 3077503.0992420753, 2320064.9267199864, 3141916.653741468, 1377854.3915665173, 178334.894518655, 57631.479376910516, 382534.1114274947, 310062.466605251, 568785.0203090323]\n"
     ]
    }
   ],
   "source": [
    "import re\n",
    "def nan_str2int(inputlist):\n",
    "    outputlist = []\n",
    "    for y in inputlist:\n",
    "        #y = inputlist[i]\n",
    "        if isinstance(y,str):\n",
    "            y = re.sub(\"\\D\", \"\", y)\n",
    "            outputlist.append(int(float(y)))\n",
    "        else:\n",
    "            outputlist.append(y)\n",
    "            \n",
    "            \n",
    "    return outputlist\n",
    "namelist = ['Comedy','Drama','Horror','Musical','Action','Crime','Animation','Adventure','Biography','Family','Thriller','Fantasy',\n",
    " 'Romance','Sci-Fi','Mystery','War','Western','Music','Sport','History']\n",
    "usa_gross_income_list = [] \n",
    "for name in namelist: \n",
    "    type_list = data[name].values\n",
    "    \n",
    "    usa_gross_income = data[\"worlwide_gross_income\"].values\n",
    "    #print(np.isnan(usa_gross_income[2]))\n",
    "    #print(usa_gross_income[:1000])\n",
    "    usa_gross_income = nan_str2int(usa_gross_income)\n",
    "    \n",
    "    type_income_list = type_list*usa_gross_income #a = [1 0 0 1], b = [3 4 5 6] a*b = [3 0 0 6]\n",
    "\n",
    "    type_mean_income = np.nanmean(type_income_list) #np.nanmean(ab) = 非NaN的数值的和\n",
    "\n",
    "    usa_gross_income_list.append(type_mean_income)\n",
    "print(usa_gross_income_list)"
   ]
  },
  {
   "cell_type": "code",
   "execution_count": 19,
   "metadata": {},
   "outputs": [
    {
     "data": {
      "image/png": "[encoded data removed]",
      "text/plain": [
       "<Figure size 432x288 with 1 Axes>"
      ]
     },
     "metadata": {
      "needs_background": "light"
     },
     "output_type": "display_data"
    }
   ],
   "source": [
    "ax = plt.gca()\n",
    "sns.barplot(namelist,usa_gross_income_list)\n",
    "plt.xlabel('genres')\n",
    "plt.ylabel('world_income')\n",
    "for label in ax.xaxis.get_ticklabels():\n",
    "    label.set_rotation(90)"
   ]
  },
  {
   "cell_type": "code",
   "execution_count": 20,
   "metadata": {},
   "outputs": [
    {
     "name": "stdout",
     "output_type": "stream",
     "text": [
      "[5.680548818515694, 6.125850398792844, 4.670230933436833, 5.931749460043196, 5.487108886107635, 5.864159100734976, 6.226489590811199, 5.639073071718538, 6.644803695150114, 5.709318423855165, 5.378102305020524, 5.527841561423651, 5.942610797743756, 5.078035043804756, 5.6489396411092985, 6.228524046434495, 5.157303370786517, 6.248360655737705, 6.034999999999999, 6.403727369542066]\n"
     ]
    }
   ],
   "source": [
    "namelist = ['Comedy','Drama','Horror','Musical','Action','Crime','Animation','Adventure','Biography','Family','Thriller','Fantasy',\n",
    " 'Romance','Sci-Fi','Mystery','War','Western','Music','Sport','History']\n",
    "rate_list = [] \n",
    "for name in namelist: \n",
    "    type_list = data[name].values\n",
    "    rate = type_list.dot(data['avg_vote'].values)\n",
    "    \n",
    "    n_nonzero = len(np.nonzero(type_list)[0])\n",
    "    \n",
    "    rate_list.append(rate/n_nonzero)\n",
    "    \n",
    "print(rate_list)"
   ]
  }
 ],
 "metadata": {
  "kernelspec": {
   "display_name": "Python 3",
   "language": "python",
   "name": "python3"
  },
  "language_info": {
   "codemirror_mode": {
    "name": "ipython",
    "version": 3
   },
   "file_extension": ".py",
   "mimetype": "text/x-python",
   "name": "python",
   "nbconvert_exporter": "python",
   "pygments_lexer": "ipython3",
   "version": "3.7.6"
  }
 },
 "nbformat": 4,
 "nbformat_minor": 4
}
